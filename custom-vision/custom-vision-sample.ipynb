{
 "cells": [
  {
   "cell_type": "code",
   "execution_count": null,
   "metadata": {
    "collapsed": false
   },
   "outputs": [],
   "source": [
    "import httplib, urllib, base64, json\n",
    " \n",
    "customvisionapi_key = '<<prediction key here>>'\n",
    "uri_base = 'southcentralus.api.cognitive.microsoft.com'\n",
    "headers = {\n",
    "    'Prediction-Key': customvisionapi_key,\n",
    "    'Content-Type': 'application/json'\n",
    "}\n",
    " \n",
    "\n",
    "body = \"{'Url': 'https://raw.githubusercontent.com/amynic/deep-learning-fashion/master/dataset/test/0label_image10007.png'}\"\n",
    "# All images are listed here: https://github.com/amynic/deep-learning-fashion/tree/master/dataset/test \n",
    "# change the filename to test different files\n",
    " \n",
    "#enter everything after - https://southcentralus.api.cognitive.microsoft.com/customvision/v2.0/Prediction/ as custom_vision_url variable\n",
    " \n",
    "custom_vision_url = \"<projectid>/url?iterationId=<iterationid>\" \n",
    " \n",
    "try:\n",
    "    # Execute the REST API call and get the response.\n",
    "    conn = httplib.HTTPSConnection(uri_base)\n",
    "    conn.request(\"POST\", \"/customvision/v2.0/Prediction/\" + custom_vision_url, body, headers)\n",
    "    response = conn.getresponse()\n",
    "    data = response.read()\n",
    " \n",
    "    # 'data' contains the JSON data. The following formats the JSON data for display.\n",
    "    parsed = json.loads(data.decode())\n",
    "    print (\"Response:\")\n",
    "    print (json.dumps(parsed, sort_keys=True, indent=2))\n",
    "    \n",
    "    #print (\"Most likely to be:\")\n",
    "    #print (json.dumps(parsed[\"predictions\"][0][\"tagName\"], sort_keys=True, indent=2))\n",
    "    \n",
    "    conn.close()\n",
    " \n",
    "except Exception as e:\n",
    "    print('Error:')\n",
    "    print(e)"
   ]
  }
 ],
 "metadata": {
  "anaconda-cloud": {},
  "kernelspec": {
   "display_name": "Python [Root]",
   "language": "python",
   "name": "Python [Root]"
  },
  "language_info": {
   "codemirror_mode": {
    "name": "ipython",
    "version": 3
   },
   "file_extension": ".py",
   "mimetype": "text/x-python",
   "name": "python",
   "nbconvert_exporter": "python",
   "pygments_lexer": "ipython3",
   "version": "3.5.2"
  }
 },
 "nbformat": 4,
 "nbformat_minor": 2
}
